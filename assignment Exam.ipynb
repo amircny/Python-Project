{
 "cells": [
  {
   "cell_type": "code",
   "execution_count": 1,
   "id": "f62ab314",
   "metadata": {},
   "outputs": [],
   "source": [
    "#Code Test\n"
   ]
  },
  {
   "cell_type": "code",
   "execution_count": null,
   "id": "91d79c3f",
   "metadata": {},
   "outputs": [
    {
     "name": "stdout",
     "output_type": "stream",
     "text": [
      "<class 'pandas.core.frame.DataFrame'>\n",
      "RangeIndex: 212 entries, 0 to 211\n",
      "Data columns (total 16 columns):\n",
      " #   Column                     Non-Null Count  Dtype  \n",
      "---  ------                     --------------  -----  \n",
      " 0   Ash(wt%)                   184 non-null    float64\n",
      " 1   FixedCarbon(wt%)           184 non-null    float64\n",
      " 2   Volatiles(wt%)             184 non-null    float64\n",
      " 3   C(wt%)                     212 non-null    float64\n",
      " 4   H(wt%)                     207 non-null    float64\n",
      " 5   O(wt%)                     207 non-null    float64\n",
      " 6   N(wt%)                     201 non-null    float64\n",
      " 7   H/C                        207 non-null    float64\n",
      " 8   Cellulose(wt%)             163 non-null    float64\n",
      " 9   Hemicellulose(wt%)         129 non-null    float64\n",
      " 10  Lignin(wt%)                135 non-null    float64\n",
      " 11  T(^C)                      212 non-null    int64  \n",
      " 12  HeatingRate(^C/min)        212 non-null    int64  \n",
      " 13  ParticleSize(mm)           212 non-null    float64\n",
      " 14  FlowRate-Nitrogen(ml/min)  212 non-null    int64  \n",
      " 15  Unnamed: 15                0 non-null      float64\n",
      "dtypes: float64(13), int64(3)\n",
      "memory usage: 26.6 KB\n"
     ]
    }
   ],
   "source": [
    "import pandas as pd\n",
    "df=pd.read_excel(r\"C:\\Users\\Amir\\Desktop\\Program Project\\Project mashinlearning\\Test.xlsx\")\n",
    "df.info()\n",
    "#Find Data lost\n",
    "df.isnull().sum()\n",
    "#complete each COlum is non\n",
    "# پر کردن با میانگین\n",
    "#First i completed this Nun data with Average\n",
    "df = df.fillna(df.mean())  \n",
    "df.to_excel(r\"C:\\Users\\Amir\\Desktop\\Program Project\\Project mashinlearning\\Test_Final.xlsx\", index=False)"
   ]
  },
  {
   "cell_type": "code",
   "execution_count": null,
   "id": "8c788f07",
   "metadata": {},
   "outputs": [],
   "source": [
    "#Code Train"
   ]
  },
  {
   "cell_type": "code",
   "execution_count": 8,
   "id": "193bca56",
   "metadata": {},
   "outputs": [
    {
     "name": "stdout",
     "output_type": "stream",
     "text": [
      "<class 'pandas.core.frame.DataFrame'>\n",
      "RangeIndex: 845 entries, 0 to 844\n",
      "Data columns (total 16 columns):\n",
      " #   Column                     Non-Null Count  Dtype  \n",
      "---  ------                     --------------  -----  \n",
      " 0   Ash(wt%)                   747 non-null    float64\n",
      " 1   FixedCarbon(wt%)           747 non-null    float64\n",
      " 2   Volatiles(wt%)             747 non-null    float64\n",
      " 3   C(wt%)                     845 non-null    float64\n",
      " 4   H(wt%)                     835 non-null    float64\n",
      " 5   O(wt%)                     835 non-null    float64\n",
      " 6   N(wt%)                     805 non-null    float64\n",
      " 7   H/C                        835 non-null    float64\n",
      " 8   Cellulose(wt%)             669 non-null    float64\n",
      " 9   Hemicellulose(wt%)         483 non-null    float64\n",
      " 10  Lignin(wt%)                510 non-null    float64\n",
      " 11  T(^C)                      845 non-null    int64  \n",
      " 12  HeatingRate(^C/min)        845 non-null    int64  \n",
      " 13  ParticleSize(mm)           845 non-null    float64\n",
      " 14  FlowRate-Nitrogen(ml/min)  845 non-null    int64  \n",
      " 15  yield(wt%)                 845 non-null    float64\n",
      "dtypes: float64(13), int64(3)\n",
      "memory usage: 105.8 KB\n"
     ]
    },
    {
     "name": "stderr",
     "output_type": "stream",
     "text": [
      "c:\\Users\\Amir\\AppData\\Local\\Programs\\Python\\Python313\\Lib\\site-packages\\openpyxl\\styles\\stylesheet.py:237: UserWarning: Workbook contains no default style, apply openpyxl's default\n",
      "  warn(\"Workbook contains no default style, apply openpyxl's default\")\n"
     ]
    }
   ],
   "source": [
    "import pandas as pd\n",
    "df=pd.read_excel(r\"C:\\Users\\Amir\\Desktop\\Program Project\\Project mashinlearning\\Train.xlsx\")\n",
    "df.info()"
   ]
  },
  {
   "cell_type": "code",
   "execution_count": 18,
   "id": "c17de0b0",
   "metadata": {},
   "outputs": [
    {
     "name": "stderr",
     "output_type": "stream",
     "text": [
      "\n",
      "[notice] A new release of pip is available: 24.3.1 -> 25.1.1\n",
      "[notice] To update, run: python.exe -m pip install --upgrade pip\n"
     ]
    },
    {
     "name": "stdout",
     "output_type": "stream",
     "text": [
      "Collecting scikit-learn\n",
      "  Downloading scikit_learn-1.7.0-cp313-cp313-win_amd64.whl.metadata (14 kB)\n",
      "Requirement already satisfied: numpy>=1.22.0 in c:\\users\\amir\\appdata\\local\\programs\\python\\python313\\lib\\site-packages (from scikit-learn) (2.2.6)\n",
      "Requirement already satisfied: scipy>=1.8.0 in c:\\users\\amir\\appdata\\local\\programs\\python\\python313\\lib\\site-packages (from scikit-learn) (1.15.3)\n",
      "Collecting joblib>=1.2.0 (from scikit-learn)\n",
      "  Downloading joblib-1.5.1-py3-none-any.whl.metadata (5.6 kB)\n",
      "Collecting threadpoolctl>=3.1.0 (from scikit-learn)\n",
      "  Downloading threadpoolctl-3.6.0-py3-none-any.whl.metadata (13 kB)\n",
      "Downloading scikit_learn-1.7.0-cp313-cp313-win_amd64.whl (10.7 MB)\n",
      "   ---------------------------------------- 0.0/10.7 MB ? eta -:--:--\n",
      "   ---------------------------------------- 0.0/10.7 MB ? eta -:--:--\n",
      "   ---------------------------------------- 0.0/10.7 MB ? eta -:--:--\n",
      "    --------------------------------------- 0.3/10.7 MB ? eta -:--:--\n",
      "    --------------------------------------- 0.3/10.7 MB ? eta -:--:--\n",
      "   - -------------------------------------- 0.5/10.7 MB 640.2 kB/s eta 0:00:16\n",
      "   - -------------------------------------- 0.5/10.7 MB 640.2 kB/s eta 0:00:16\n",
      "   -- ------------------------------------- 0.8/10.7 MB 722.1 kB/s eta 0:00:14\n",
      "   --- ------------------------------------ 1.0/10.7 MB 735.5 kB/s eta 0:00:14\n",
      "   --- ------------------------------------ 1.0/10.7 MB 735.5 kB/s eta 0:00:14\n",
      "   --- ------------------------------------ 1.0/10.7 MB 735.5 kB/s eta 0:00:14\n",
      "   --- ------------------------------------ 1.0/10.7 MB 735.5 kB/s eta 0:00:14\n",
      "   --- ------------------------------------ 1.0/10.7 MB 735.5 kB/s eta 0:00:14\n",
      "   ---- ----------------------------------- 1.3/10.7 MB 531.2 kB/s eta 0:00:18\n",
      "   ---- ----------------------------------- 1.3/10.7 MB 531.2 kB/s eta 0:00:18\n",
      "   ---- ----------------------------------- 1.3/10.7 MB 531.2 kB/s eta 0:00:18\n",
      "   ---- ----------------------------------- 1.3/10.7 MB 531.2 kB/s eta 0:00:18\n",
      "   ----- ---------------------------------- 1.6/10.7 MB 474.2 kB/s eta 0:00:20\n",
      "   ------ --------------------------------- 1.8/10.7 MB 505.9 kB/s eta 0:00:18\n",
      "   ------ --------------------------------- 1.8/10.7 MB 505.9 kB/s eta 0:00:18\n",
      "   ------- -------------------------------- 2.1/10.7 MB 524.8 kB/s eta 0:00:17\n",
      "   -------- ------------------------------- 2.4/10.7 MB 559.6 kB/s eta 0:00:15\n",
      "   -------- ------------------------------- 2.4/10.7 MB 559.6 kB/s eta 0:00:15\n",
      "   -------- ------------------------------- 2.4/10.7 MB 559.6 kB/s eta 0:00:15\n",
      "   -------- ------------------------------- 2.4/10.7 MB 559.6 kB/s eta 0:00:15\n",
      "   --------- ------------------------------ 2.6/10.7 MB 507.1 kB/s eta 0:00:16\n",
      "   --------- ------------------------------ 2.6/10.7 MB 507.1 kB/s eta 0:00:16\n",
      "   --------- ------------------------------ 2.6/10.7 MB 507.1 kB/s eta 0:00:16\n",
      "   --------- ------------------------------ 2.6/10.7 MB 507.1 kB/s eta 0:00:16\n",
      "   ---------- ----------------------------- 2.9/10.7 MB 484.4 kB/s eta 0:00:17\n",
      "   ---------- ----------------------------- 2.9/10.7 MB 484.4 kB/s eta 0:00:17\n",
      "   ---------- ----------------------------- 2.9/10.7 MB 484.4 kB/s eta 0:00:17\n",
      "   ---------- ----------------------------- 2.9/10.7 MB 484.4 kB/s eta 0:00:17\n",
      "   ---------- ----------------------------- 2.9/10.7 MB 484.4 kB/s eta 0:00:17\n",
      "   ---------- ----------------------------- 2.9/10.7 MB 484.4 kB/s eta 0:00:17\n",
      "   ----------- ---------------------------- 3.1/10.7 MB 427.9 kB/s eta 0:00:18\n",
      "   ----------- ---------------------------- 3.1/10.7 MB 427.9 kB/s eta 0:00:18\n",
      "   ----------- ---------------------------- 3.1/10.7 MB 427.9 kB/s eta 0:00:18\n",
      "   ----------- ---------------------------- 3.1/10.7 MB 427.9 kB/s eta 0:00:18\n",
      "   ----------- ---------------------------- 3.1/10.7 MB 427.9 kB/s eta 0:00:18\n",
      "   ----------- ---------------------------- 3.1/10.7 MB 427.9 kB/s eta 0:00:18\n",
      "   ----------- ---------------------------- 3.1/10.7 MB 427.9 kB/s eta 0:00:18\n",
      "   ------------ --------------------------- 3.4/10.7 MB 382.6 kB/s eta 0:00:19\n",
      "   ------------ --------------------------- 3.4/10.7 MB 382.6 kB/s eta 0:00:19\n",
      "   ------------ --------------------------- 3.4/10.7 MB 382.6 kB/s eta 0:00:19\n",
      "   ------------ --------------------------- 3.4/10.7 MB 382.6 kB/s eta 0:00:19\n",
      "   ------------ --------------------------- 3.4/10.7 MB 382.6 kB/s eta 0:00:19\n",
      "   ------------ --------------------------- 3.4/10.7 MB 382.6 kB/s eta 0:00:19\n",
      "   ------------ --------------------------- 3.4/10.7 MB 382.6 kB/s eta 0:00:19\n",
      "   ------------ --------------------------- 3.4/10.7 MB 382.6 kB/s eta 0:00:19\n",
      "   ------------- -------------------------- 3.7/10.7 MB 344.6 kB/s eta 0:00:21\n",
      "   ------------- -------------------------- 3.7/10.7 MB 344.6 kB/s eta 0:00:21\n",
      "   ------------- -------------------------- 3.7/10.7 MB 344.6 kB/s eta 0:00:21\n",
      "   ------------- -------------------------- 3.7/10.7 MB 344.6 kB/s eta 0:00:21\n",
      "   ------------- -------------------------- 3.7/10.7 MB 344.6 kB/s eta 0:00:21\n",
      "   ------------- -------------------------- 3.7/10.7 MB 344.6 kB/s eta 0:00:21\n",
      "   ------------- -------------------------- 3.7/10.7 MB 344.6 kB/s eta 0:00:21\n",
      "   ------------- -------------------------- 3.7/10.7 MB 344.6 kB/s eta 0:00:21\n",
      "   ------------- -------------------------- 3.7/10.7 MB 344.6 kB/s eta 0:00:21\n",
      "   -------------- ------------------------- 3.9/10.7 MB 312.4 kB/s eta 0:00:22\n",
      "   -------------- ------------------------- 3.9/10.7 MB 312.4 kB/s eta 0:00:22\n",
      "   -------------- ------------------------- 3.9/10.7 MB 312.4 kB/s eta 0:00:22\n",
      "   -------------- ------------------------- 3.9/10.7 MB 312.4 kB/s eta 0:00:22\n",
      "   -------------- ------------------------- 3.9/10.7 MB 312.4 kB/s eta 0:00:22\n",
      "   -------------- ------------------------- 3.9/10.7 MB 312.4 kB/s eta 0:00:22\n",
      "   -------------- ------------------------- 3.9/10.7 MB 312.4 kB/s eta 0:00:22\n",
      "   --------------- ------------------------ 4.2/10.7 MB 296.3 kB/s eta 0:00:22\n",
      "   --------------- ------------------------ 4.2/10.7 MB 296.3 kB/s eta 0:00:22\n",
      "   --------------- ------------------------ 4.2/10.7 MB 296.3 kB/s eta 0:00:22\n",
      "   ---------------- ----------------------- 4.5/10.7 MB 302.3 kB/s eta 0:00:21\n",
      "   ---------------- ----------------------- 4.5/10.7 MB 302.3 kB/s eta 0:00:21\n",
      "   ---------------- ----------------------- 4.5/10.7 MB 302.3 kB/s eta 0:00:21\n",
      "   ---------------- ----------------------- 4.5/10.7 MB 302.3 kB/s eta 0:00:21\n",
      "   ---------------- ----------------------- 4.5/10.7 MB 302.3 kB/s eta 0:00:21\n",
      "   ---------------- ----------------------- 4.5/10.7 MB 302.3 kB/s eta 0:00:21\n",
      "   ---------------- ----------------------- 4.5/10.7 MB 302.3 kB/s eta 0:00:21\n",
      "   ---------------- ----------------------- 4.5/10.7 MB 302.3 kB/s eta 0:00:21\n",
      "   ----------------- ---------------------- 4.7/10.7 MB 288.9 kB/s eta 0:00:21\n",
      "   ----------------- ---------------------- 4.7/10.7 MB 288.9 kB/s eta 0:00:21\n",
      "   ----------------- ---------------------- 4.7/10.7 MB 288.9 kB/s eta 0:00:21\n",
      "   ----------------- ---------------------- 4.7/10.7 MB 288.9 kB/s eta 0:00:21\n",
      "   ----------------- ---------------------- 4.7/10.7 MB 288.9 kB/s eta 0:00:21\n",
      "   ----------------- ---------------------- 4.7/10.7 MB 288.9 kB/s eta 0:00:21\n",
      "   ------------------ --------------------- 5.0/10.7 MB 281.4 kB/s eta 0:00:21\n",
      "   ------------------ --------------------- 5.0/10.7 MB 281.4 kB/s eta 0:00:21\n",
      "   ------------------ --------------------- 5.0/10.7 MB 281.4 kB/s eta 0:00:21\n",
      "   ------------------ --------------------- 5.0/10.7 MB 281.4 kB/s eta 0:00:21\n",
      "   ------------------ --------------------- 5.0/10.7 MB 281.4 kB/s eta 0:00:21\n",
      "   ------------------ --------------------- 5.0/10.7 MB 281.4 kB/s eta 0:00:21\n",
      "   ------------------ --------------------- 5.0/10.7 MB 281.4 kB/s eta 0:00:21\n",
      "   ------------------ --------------------- 5.0/10.7 MB 281.4 kB/s eta 0:00:21\n",
      "   ------------------- -------------------- 5.2/10.7 MB 270.7 kB/s eta 0:00:20\n",
      "   -------------------- ------------------- 5.5/10.7 MB 279.8 kB/s eta 0:00:19\n",
      "   --------------------- ------------------ 5.8/10.7 MB 289.9 kB/s eta 0:00:17\n",
      "   --------------------- ------------------ 5.8/10.7 MB 289.9 kB/s eta 0:00:17\n",
      "   ---------------------- ----------------- 6.0/10.7 MB 299.4 kB/s eta 0:00:16\n",
      "   ----------------------- ---------------- 6.3/10.7 MB 309.8 kB/s eta 0:00:15\n",
      "   ------------------------ --------------- 6.6/10.7 MB 318.7 kB/s eta 0:00:13\n",
      "   ------------------------- -------------- 6.8/10.7 MB 327.0 kB/s eta 0:00:12\n",
      "   ------------------------- -------------- 6.8/10.7 MB 327.0 kB/s eta 0:00:12\n",
      "   -------------------------- ------------- 7.1/10.7 MB 333.6 kB/s eta 0:00:11\n",
      "   --------------------------- ------------ 7.3/10.7 MB 343.0 kB/s eta 0:00:10\n",
      "   ---------------------------- ----------- 7.6/10.7 MB 352.3 kB/s eta 0:00:09\n",
      "   ---------------------------- ----------- 7.6/10.7 MB 352.3 kB/s eta 0:00:09\n",
      "   ----------------------------- ---------- 7.9/10.7 MB 358.0 kB/s eta 0:00:08\n",
      "   ------------------------------ --------- 8.1/10.7 MB 366.5 kB/s eta 0:00:07\n",
      "   ------------------------------- -------- 8.4/10.7 MB 374.3 kB/s eta 0:00:07\n",
      "   ------------------------------- -------- 8.4/10.7 MB 374.3 kB/s eta 0:00:07\n",
      "   -------------------------------- ------- 8.7/10.7 MB 379.5 kB/s eta 0:00:06\n",
      "   --------------------------------- ------ 8.9/10.7 MB 387.1 kB/s eta 0:00:05\n",
      "   --------------------------------- ------ 8.9/10.7 MB 387.1 kB/s eta 0:00:05\n",
      "   ---------------------------------- ----- 9.2/10.7 MB 393.5 kB/s eta 0:00:04\n",
      "   ----------------------------------- ---- 9.4/10.7 MB 400.2 kB/s eta 0:00:04\n",
      "   ------------------------------------ --- 9.7/10.7 MB 407.0 kB/s eta 0:00:03\n",
      "   ------------------------------------ --- 9.7/10.7 MB 407.0 kB/s eta 0:00:03\n",
      "   ------------------------------------- -- 10.0/10.7 MB 412.6 kB/s eta 0:00:02\n",
      "   -------------------------------------- - 10.2/10.7 MB 419.2 kB/s eta 0:00:02\n",
      "   ---------------------------------------  10.5/10.7 MB 426.8 kB/s eta 0:00:01\n",
      "   ---------------------------------------- 10.7/10.7 MB 428.9 kB/s eta 0:00:00\n",
      "Downloading joblib-1.5.1-py3-none-any.whl (307 kB)\n",
      "Downloading threadpoolctl-3.6.0-py3-none-any.whl (18 kB)\n",
      "Installing collected packages: threadpoolctl, joblib, scikit-learn\n",
      "Successfully installed joblib-1.5.1 scikit-learn-1.7.0 threadpoolctl-3.6.0\n"
     ]
    }
   ],
   "source": [
    "import sys\n",
    "!{sys.executable} -m pip install scikit-learn"
   ]
  },
  {
   "cell_type": "code",
   "execution_count": 3,
   "id": "3f47f9f2",
   "metadata": {},
   "outputs": [],
   "source": [
    "import pandas as pd\n",
    "from sklearn.linear_model import LinearRegression\n",
    "from sklearn.metrics import mean_absolute_error"
   ]
  },
  {
   "cell_type": "code",
   "execution_count": 5,
   "id": "66edb2c3",
   "metadata": {},
   "outputs": [
    {
     "name": "stderr",
     "output_type": "stream",
     "text": [
      "c:\\Users\\Amir\\AppData\\Local\\Programs\\Python\\Python313\\Lib\\site-packages\\openpyxl\\styles\\stylesheet.py:237: UserWarning: Workbook contains no default style, apply openpyxl's default\n",
      "  warn(\"Workbook contains no default style, apply openpyxl's default\")\n"
     ]
    }
   ],
   "source": [
    "# Read data\n",
    "test_df=pd.read_excel(r\"C:\\Users\\Amir\\Desktop\\Program Project\\Project mashinlearning\\Test.xlsx\")\n",
    "train_df=pd.read_excel(r\"C:\\Users\\Amir\\Desktop\\Program Project\\Project mashinlearning\\Train.xlsx\")"
   ]
  },
  {
   "cell_type": "code",
   "execution_count": 6,
   "id": "ec89117a",
   "metadata": {},
   "outputs": [
    {
     "data": {
      "text/html": [
       "<div>\n",
       "<style scoped>\n",
       "    .dataframe tbody tr th:only-of-type {\n",
       "        vertical-align: middle;\n",
       "    }\n",
       "\n",
       "    .dataframe tbody tr th {\n",
       "        vertical-align: top;\n",
       "    }\n",
       "\n",
       "    .dataframe thead th {\n",
       "        text-align: right;\n",
       "    }\n",
       "</style>\n",
       "<table border=\"1\" class=\"dataframe\">\n",
       "  <thead>\n",
       "    <tr style=\"text-align: right;\">\n",
       "      <th></th>\n",
       "      <th>Ash(wt%)</th>\n",
       "      <th>FixedCarbon(wt%)</th>\n",
       "      <th>Volatiles(wt%)</th>\n",
       "      <th>C(wt%)</th>\n",
       "      <th>H(wt%)</th>\n",
       "      <th>O(wt%)</th>\n",
       "      <th>N(wt%)</th>\n",
       "      <th>H/C</th>\n",
       "      <th>Cellulose(wt%)</th>\n",
       "      <th>Hemicellulose(wt%)</th>\n",
       "      <th>Lignin(wt%)</th>\n",
       "      <th>T(^C)</th>\n",
       "      <th>HeatingRate(^C/min)</th>\n",
       "      <th>ParticleSize(mm)</th>\n",
       "      <th>FlowRate-Nitrogen(ml/min)</th>\n",
       "      <th>Unnamed: 15</th>\n",
       "    </tr>\n",
       "  </thead>\n",
       "  <tbody>\n",
       "    <tr>\n",
       "      <th>0</th>\n",
       "      <td>3.114930</td>\n",
       "      <td>11.600430</td>\n",
       "      <td>85.284640</td>\n",
       "      <td>43.06</td>\n",
       "      <td>5.98</td>\n",
       "      <td>50.42</td>\n",
       "      <td>0.55</td>\n",
       "      <td>0.1</td>\n",
       "      <td>51.20</td>\n",
       "      <td>22.50</td>\n",
       "      <td>21.30</td>\n",
       "      <td>500</td>\n",
       "      <td>10</td>\n",
       "      <td>1.500</td>\n",
       "      <td>200</td>\n",
       "      <td>NaN</td>\n",
       "    </tr>\n",
       "    <tr>\n",
       "      <th>1</th>\n",
       "      <td>6.345733</td>\n",
       "      <td>8.315098</td>\n",
       "      <td>85.339168</td>\n",
       "      <td>45.03</td>\n",
       "      <td>6.15</td>\n",
       "      <td>47.89</td>\n",
       "      <td>0.94</td>\n",
       "      <td>0.1</td>\n",
       "      <td>23.70</td>\n",
       "      <td>30.50</td>\n",
       "      <td>27.30</td>\n",
       "      <td>500</td>\n",
       "      <td>10</td>\n",
       "      <td>1.500</td>\n",
       "      <td>200</td>\n",
       "      <td>NaN</td>\n",
       "    </tr>\n",
       "    <tr>\n",
       "      <th>2</th>\n",
       "      <td>0.278552</td>\n",
       "      <td>3.737233</td>\n",
       "      <td>95.984215</td>\n",
       "      <td>42.76</td>\n",
       "      <td>5.99</td>\n",
       "      <td>50.88</td>\n",
       "      <td>0.39</td>\n",
       "      <td>0.1</td>\n",
       "      <td>50.33</td>\n",
       "      <td>23.18</td>\n",
       "      <td>21.70</td>\n",
       "      <td>500</td>\n",
       "      <td>10</td>\n",
       "      <td>1.500</td>\n",
       "      <td>200</td>\n",
       "      <td>NaN</td>\n",
       "    </tr>\n",
       "    <tr>\n",
       "      <th>3</th>\n",
       "      <td>NaN</td>\n",
       "      <td>NaN</td>\n",
       "      <td>NaN</td>\n",
       "      <td>45.92</td>\n",
       "      <td>6.23</td>\n",
       "      <td>33.17</td>\n",
       "      <td>6.74</td>\n",
       "      <td>0.1</td>\n",
       "      <td>28.52</td>\n",
       "      <td>41.48</td>\n",
       "      <td>4.91</td>\n",
       "      <td>450</td>\n",
       "      <td>20</td>\n",
       "      <td>0.250</td>\n",
       "      <td>100</td>\n",
       "      <td>NaN</td>\n",
       "    </tr>\n",
       "    <tr>\n",
       "      <th>4</th>\n",
       "      <td>1.120000</td>\n",
       "      <td>12.650000</td>\n",
       "      <td>86.230000</td>\n",
       "      <td>47.20</td>\n",
       "      <td>5.77</td>\n",
       "      <td>44.23</td>\n",
       "      <td>0.27</td>\n",
       "      <td>0.1</td>\n",
       "      <td>NaN</td>\n",
       "      <td>NaN</td>\n",
       "      <td>NaN</td>\n",
       "      <td>500</td>\n",
       "      <td>10</td>\n",
       "      <td>0.315</td>\n",
       "      <td>500</td>\n",
       "      <td>NaN</td>\n",
       "    </tr>\n",
       "  </tbody>\n",
       "</table>\n",
       "</div>"
      ],
      "text/plain": [
       "   Ash(wt%)  FixedCarbon(wt%)  Volatiles(wt%)  C(wt%)  H(wt%)  O(wt%)  N(wt%)  \\\n",
       "0  3.114930         11.600430       85.284640   43.06    5.98   50.42    0.55   \n",
       "1  6.345733          8.315098       85.339168   45.03    6.15   47.89    0.94   \n",
       "2  0.278552          3.737233       95.984215   42.76    5.99   50.88    0.39   \n",
       "3       NaN               NaN             NaN   45.92    6.23   33.17    6.74   \n",
       "4  1.120000         12.650000       86.230000   47.20    5.77   44.23    0.27   \n",
       "\n",
       "   H/C  Cellulose(wt%)  Hemicellulose(wt%)  Lignin(wt%)  T(^C)  \\\n",
       "0  0.1           51.20               22.50        21.30    500   \n",
       "1  0.1           23.70               30.50        27.30    500   \n",
       "2  0.1           50.33               23.18        21.70    500   \n",
       "3  0.1           28.52               41.48         4.91    450   \n",
       "4  0.1             NaN                 NaN          NaN    500   \n",
       "\n",
       "   HeatingRate(^C/min)  ParticleSize(mm)  FlowRate-Nitrogen(ml/min)  \\\n",
       "0                   10             1.500                        200   \n",
       "1                   10             1.500                        200   \n",
       "2                   10             1.500                        200   \n",
       "3                   20             0.250                        100   \n",
       "4                   10             0.315                        500   \n",
       "\n",
       "   Unnamed: 15  \n",
       "0          NaN  \n",
       "1          NaN  \n",
       "2          NaN  \n",
       "3          NaN  \n",
       "4          NaN  "
      ]
     },
     "execution_count": 6,
     "metadata": {},
     "output_type": "execute_result"
    }
   ],
   "source": [
    "# Show first 5 lines\n",
    "test_df.head()"
   ]
  },
  {
   "cell_type": "code",
   "execution_count": 7,
   "id": "1d8577af",
   "metadata": {},
   "outputs": [
    {
     "data": {
      "text/html": [
       "<div>\n",
       "<style scoped>\n",
       "    .dataframe tbody tr th:only-of-type {\n",
       "        vertical-align: middle;\n",
       "    }\n",
       "\n",
       "    .dataframe tbody tr th {\n",
       "        vertical-align: top;\n",
       "    }\n",
       "\n",
       "    .dataframe thead th {\n",
       "        text-align: right;\n",
       "    }\n",
       "</style>\n",
       "<table border=\"1\" class=\"dataframe\">\n",
       "  <thead>\n",
       "    <tr style=\"text-align: right;\">\n",
       "      <th></th>\n",
       "      <th>Ash(wt%)</th>\n",
       "      <th>FixedCarbon(wt%)</th>\n",
       "      <th>Volatiles(wt%)</th>\n",
       "      <th>C(wt%)</th>\n",
       "      <th>H(wt%)</th>\n",
       "      <th>O(wt%)</th>\n",
       "      <th>N(wt%)</th>\n",
       "      <th>H/C</th>\n",
       "      <th>Cellulose(wt%)</th>\n",
       "      <th>Hemicellulose(wt%)</th>\n",
       "      <th>Lignin(wt%)</th>\n",
       "      <th>T(^C)</th>\n",
       "      <th>HeatingRate(^C/min)</th>\n",
       "      <th>ParticleSize(mm)</th>\n",
       "      <th>FlowRate-Nitrogen(ml/min)</th>\n",
       "      <th>yield(wt%)</th>\n",
       "    </tr>\n",
       "  </thead>\n",
       "  <tbody>\n",
       "    <tr>\n",
       "      <th>0</th>\n",
       "      <td>9.024134</td>\n",
       "      <td>13.850997</td>\n",
       "      <td>77.124869</td>\n",
       "      <td>52.05</td>\n",
       "      <td>5.37</td>\n",
       "      <td>42.10</td>\n",
       "      <td>0.49</td>\n",
       "      <td>0.1</td>\n",
       "      <td>27.70</td>\n",
       "      <td>21.60</td>\n",
       "      <td>44.00</td>\n",
       "      <td>500</td>\n",
       "      <td>10</td>\n",
       "      <td>1.50</td>\n",
       "      <td>200</td>\n",
       "      <td>47.4</td>\n",
       "    </tr>\n",
       "    <tr>\n",
       "      <th>1</th>\n",
       "      <td>5.676433</td>\n",
       "      <td>5.353296</td>\n",
       "      <td>88.970271</td>\n",
       "      <td>42.72</td>\n",
       "      <td>5.61</td>\n",
       "      <td>51.24</td>\n",
       "      <td>0.44</td>\n",
       "      <td>0.1</td>\n",
       "      <td>34.44</td>\n",
       "      <td>23.94</td>\n",
       "      <td>35.89</td>\n",
       "      <td>500</td>\n",
       "      <td>10</td>\n",
       "      <td>1.50</td>\n",
       "      <td>200</td>\n",
       "      <td>40.9</td>\n",
       "    </tr>\n",
       "    <tr>\n",
       "      <th>2</th>\n",
       "      <td>13.538462</td>\n",
       "      <td>13.098901</td>\n",
       "      <td>73.362637</td>\n",
       "      <td>40.40</td>\n",
       "      <td>5.58</td>\n",
       "      <td>52.09</td>\n",
       "      <td>1.94</td>\n",
       "      <td>0.1</td>\n",
       "      <td>32.49</td>\n",
       "      <td>22.97</td>\n",
       "      <td>26.00</td>\n",
       "      <td>500</td>\n",
       "      <td>10</td>\n",
       "      <td>1.50</td>\n",
       "      <td>200</td>\n",
       "      <td>16.6</td>\n",
       "    </tr>\n",
       "    <tr>\n",
       "      <th>3</th>\n",
       "      <td>4.641028</td>\n",
       "      <td>12.844536</td>\n",
       "      <td>82.514435</td>\n",
       "      <td>43.76</td>\n",
       "      <td>6.30</td>\n",
       "      <td>49.57</td>\n",
       "      <td>0.38</td>\n",
       "      <td>0.1</td>\n",
       "      <td>46.10</td>\n",
       "      <td>23.17</td>\n",
       "      <td>29.31</td>\n",
       "      <td>500</td>\n",
       "      <td>10</td>\n",
       "      <td>1.50</td>\n",
       "      <td>200</td>\n",
       "      <td>28.9</td>\n",
       "    </tr>\n",
       "    <tr>\n",
       "      <th>4</th>\n",
       "      <td>NaN</td>\n",
       "      <td>NaN</td>\n",
       "      <td>NaN</td>\n",
       "      <td>45.92</td>\n",
       "      <td>6.23</td>\n",
       "      <td>33.17</td>\n",
       "      <td>6.74</td>\n",
       "      <td>0.1</td>\n",
       "      <td>28.52</td>\n",
       "      <td>41.48</td>\n",
       "      <td>4.91</td>\n",
       "      <td>400</td>\n",
       "      <td>20</td>\n",
       "      <td>0.25</td>\n",
       "      <td>100</td>\n",
       "      <td>46.8</td>\n",
       "    </tr>\n",
       "  </tbody>\n",
       "</table>\n",
       "</div>"
      ],
      "text/plain": [
       "    Ash(wt%)  FixedCarbon(wt%)  Volatiles(wt%)  C(wt%)  H(wt%)  O(wt%)  \\\n",
       "0   9.024134         13.850997       77.124869   52.05    5.37   42.10   \n",
       "1   5.676433          5.353296       88.970271   42.72    5.61   51.24   \n",
       "2  13.538462         13.098901       73.362637   40.40    5.58   52.09   \n",
       "3   4.641028         12.844536       82.514435   43.76    6.30   49.57   \n",
       "4        NaN               NaN             NaN   45.92    6.23   33.17   \n",
       "\n",
       "   N(wt%)  H/C  Cellulose(wt%)  Hemicellulose(wt%)  Lignin(wt%)  T(^C)  \\\n",
       "0    0.49  0.1           27.70               21.60        44.00    500   \n",
       "1    0.44  0.1           34.44               23.94        35.89    500   \n",
       "2    1.94  0.1           32.49               22.97        26.00    500   \n",
       "3    0.38  0.1           46.10               23.17        29.31    500   \n",
       "4    6.74  0.1           28.52               41.48         4.91    400   \n",
       "\n",
       "   HeatingRate(^C/min)  ParticleSize(mm)  FlowRate-Nitrogen(ml/min)  \\\n",
       "0                   10              1.50                        200   \n",
       "1                   10              1.50                        200   \n",
       "2                   10              1.50                        200   \n",
       "3                   10              1.50                        200   \n",
       "4                   20              0.25                        100   \n",
       "\n",
       "   yield(wt%)  \n",
       "0        47.4  \n",
       "1        40.9  \n",
       "2        16.6  \n",
       "3        28.9  \n",
       "4        46.8  "
      ]
     },
     "execution_count": 7,
     "metadata": {},
     "output_type": "execute_result"
    }
   ],
   "source": [
    "train_df.head()"
   ]
  },
  {
   "cell_type": "code",
   "execution_count": 8,
   "id": "a8f2e96f",
   "metadata": {},
   "outputs": [],
   "source": [
    "# Remove extra column if any\n",
    "if \"Unnamed: 15\" in test_df.columns:\n",
    "    test_df = test_df.drop(columns=[\"Unnamed: 15\"])"
   ]
  },
  {
   "cell_type": "code",
   "execution_count": 9,
   "id": "567192e5",
   "metadata": {},
   "outputs": [
    {
     "name": "stdout",
     "output_type": "stream",
     "text": [
      "<class 'pandas.core.frame.DataFrame'>\n",
      "RangeIndex: 212 entries, 0 to 211\n",
      "Data columns (total 15 columns):\n",
      " #   Column                     Non-Null Count  Dtype  \n",
      "---  ------                     --------------  -----  \n",
      " 0   Ash(wt%)                   184 non-null    float64\n",
      " 1   FixedCarbon(wt%)           184 non-null    float64\n",
      " 2   Volatiles(wt%)             184 non-null    float64\n",
      " 3   C(wt%)                     212 non-null    float64\n",
      " 4   H(wt%)                     207 non-null    float64\n",
      " 5   O(wt%)                     207 non-null    float64\n",
      " 6   N(wt%)                     201 non-null    float64\n",
      " 7   H/C                        207 non-null    float64\n",
      " 8   Cellulose(wt%)             163 non-null    float64\n",
      " 9   Hemicellulose(wt%)         129 non-null    float64\n",
      " 10  Lignin(wt%)                135 non-null    float64\n",
      " 11  T(^C)                      212 non-null    int64  \n",
      " 12  HeatingRate(^C/min)        212 non-null    int64  \n",
      " 13  ParticleSize(mm)           212 non-null    float64\n",
      " 14  FlowRate-Nitrogen(ml/min)  212 non-null    int64  \n",
      "dtypes: float64(12), int64(3)\n",
      "memory usage: 25.0 KB\n"
     ]
    }
   ],
   "source": [
    "# get information\n",
    "test_df.info()"
   ]
  },
  {
   "cell_type": "code",
   "execution_count": 10,
   "id": "ea00a38d",
   "metadata": {},
   "outputs": [
    {
     "name": "stdout",
     "output_type": "stream",
     "text": [
      "<class 'pandas.core.frame.DataFrame'>\n",
      "RangeIndex: 845 entries, 0 to 844\n",
      "Data columns (total 16 columns):\n",
      " #   Column                     Non-Null Count  Dtype  \n",
      "---  ------                     --------------  -----  \n",
      " 0   Ash(wt%)                   747 non-null    float64\n",
      " 1   FixedCarbon(wt%)           747 non-null    float64\n",
      " 2   Volatiles(wt%)             747 non-null    float64\n",
      " 3   C(wt%)                     845 non-null    float64\n",
      " 4   H(wt%)                     835 non-null    float64\n",
      " 5   O(wt%)                     835 non-null    float64\n",
      " 6   N(wt%)                     805 non-null    float64\n",
      " 7   H/C                        835 non-null    float64\n",
      " 8   Cellulose(wt%)             669 non-null    float64\n",
      " 9   Hemicellulose(wt%)         483 non-null    float64\n",
      " 10  Lignin(wt%)                510 non-null    float64\n",
      " 11  T(^C)                      845 non-null    int64  \n",
      " 12  HeatingRate(^C/min)        845 non-null    int64  \n",
      " 13  ParticleSize(mm)           845 non-null    float64\n",
      " 14  FlowRate-Nitrogen(ml/min)  845 non-null    int64  \n",
      " 15  yield(wt%)                 845 non-null    float64\n",
      "dtypes: float64(13), int64(3)\n",
      "memory usage: 105.8 KB\n"
     ]
    }
   ],
   "source": [
    "train_df.info()"
   ]
  },
  {
   "cell_type": "code",
   "execution_count": 11,
   "id": "443d9212",
   "metadata": {},
   "outputs": [
    {
     "name": "stdout",
     "output_type": "stream",
     "text": [
      "missing values in the train:\n",
      "Ash(wt%)                      98\n",
      "FixedCarbon(wt%)              98\n",
      "Volatiles(wt%)                98\n",
      "C(wt%)                         0\n",
      "H(wt%)                        10\n",
      "O(wt%)                        10\n",
      "N(wt%)                        40\n",
      "H/C                           10\n",
      "Cellulose(wt%)               176\n",
      "Hemicellulose(wt%)           362\n",
      "Lignin(wt%)                  335\n",
      "T(^C)                          0\n",
      "HeatingRate(^C/min)            0\n",
      "ParticleSize(mm)               0\n",
      "FlowRate-Nitrogen(ml/min)      0\n",
      "yield(wt%)                     0\n",
      "dtype: int64\n"
     ]
    }
   ],
   "source": [
    "# Check for missing values ​​in the training and test datasets\n",
    "print(\"missing values in the train:\")\n",
    "print(train_df.isnull().sum())"
   ]
  },
  {
   "cell_type": "code",
   "execution_count": 12,
   "id": "ef3c1e3c",
   "metadata": {},
   "outputs": [
    {
     "name": "stdout",
     "output_type": "stream",
     "text": [
      "\n",
      " missing values in Test:\n",
      "Ash(wt%)                     28\n",
      "FixedCarbon(wt%)             28\n",
      "Volatiles(wt%)               28\n",
      "C(wt%)                        0\n",
      "H(wt%)                        5\n",
      "O(wt%)                        5\n",
      "N(wt%)                       11\n",
      "H/C                           5\n",
      "Cellulose(wt%)               49\n",
      "Hemicellulose(wt%)           83\n",
      "Lignin(wt%)                  77\n",
      "T(^C)                         0\n",
      "HeatingRate(^C/min)           0\n",
      "ParticleSize(mm)              0\n",
      "FlowRate-Nitrogen(ml/min)     0\n",
      "dtype: int64\n"
     ]
    }
   ],
   "source": [
    "\n",
    "print(\"\\n missing values in Test:\")\n",
    "print(test_df.isnull().sum())"
   ]
  },
  {
   "cell_type": "code",
   "execution_count": 13,
   "id": "dd59e84f",
   "metadata": {},
   "outputs": [],
   "source": [
    "# Filling missing values ​​with column averages in each dataframe\n",
    "train_df.fillna(train_df.mean(numeric_only=True), inplace=True)\n",
    "test_df.fillna(test_df.mean(numeric_only=True), inplace=True)"
   ]
  },
  {
   "cell_type": "code",
   "execution_count": 14,
   "id": "d044d248",
   "metadata": {},
   "outputs": [
    {
     "name": "stdout",
     "output_type": "stream",
     "text": [
      "Is there still some missing value?\n",
      "Train: 0\n",
      "Test: 0\n"
     ]
    }
   ],
   "source": [
    "# Double check to make sure there are no missing values ​​left.\n",
    "print(\"Is there still some missing value?\")\n",
    "print(\"Train:\", train_df.isnull().sum().sum())\n",
    "print(\"Test:\", test_df.isnull().sum().sum())"
   ]
  },
  {
   "cell_type": "code",
   "execution_count": 17,
   "id": "bbef67ed",
   "metadata": {},
   "outputs": [
    {
     "name": "stdout",
     "output_type": "stream",
     "text": [
      "X_train shape: (845, 15)\n",
      "y_train shape: (845,)\n"
     ]
    }
   ],
   "source": [
    "# separate     X=Features       y=Target\n",
    "X_train = train_df.drop(columns=[\"yield(wt%)\"])  # Features Separate yield\n",
    "y_train = train_df[\"yield(wt%)\"]  # Target\n",
    "\n",
    "print(\"X_train shape:\", X_train.shape)\n",
    "print(\"y_train shape:\", y_train.shape)\n"
   ]
  },
  {
   "cell_type": "code",
   "execution_count": 18,
   "id": "a165f9b6",
   "metadata": {},
   "outputs": [
    {
     "name": "stdout",
     "output_type": "stream",
     "text": [
      "The linear regression model was trained.\n"
     ]
    }
   ],
   "source": [
    "# Definition of linear regression model\n",
    "model = LinearRegression()\n",
    "\n",
    "# Training the model on data\n",
    "model.fit(X_train, y_train)\n",
    "\n",
    "print(\"The linear regression model was trained.\")"
   ]
  },
  {
   "cell_type": "code",
   "execution_count": 19,
   "id": "c8693312",
   "metadata": {},
   "outputs": [
    {
     "name": "stdout",
     "output_type": "stream",
     "text": [
      "Sample predictions:\n",
      "[38.82584164 39.23393314 38.38485311 39.64001015 32.25603618]\n"
     ]
    }
   ],
   "source": [
    "#Predict yield value for test data\n",
    "y_pred = model.predict(test_df)\n",
    "\n",
    "#Display first few predicted values\n",
    "print(\"Sample predictions:\")\n",
    "print(y_pred[:5])"
   ]
  },
  {
   "cell_type": "code",
   "execution_count": null,
   "id": "c315339e",
   "metadata": {},
   "outputs": [
    {
     "name": "stdout",
     "output_type": "stream",
     "text": [
      "Mean Absolute Error (MAE) on training data:6.8629\n"
     ]
    }
   ],
   "source": [
    "# Prediction of training data occurrence\n",
    "y_pred_train = model.predict(X_train)\n",
    "\n",
    "# Calculating the MAE between the actual and predicted value\n",
    "mae = mean_absolute_error(y_train, y_pred_train)\n",
    "print(f\"Mean Absolute Error (MAE) on training data:{mae:.4f}\")\n",
    "\n",
    "# Creating the submission output file\n",
    "submission = pd.DataFrame({\n",
    "    \"ID\": test_df.index,   # test_df[\"ID\"] \n",
    "    \"yield\": y_pred\n",
    "})"
   ]
  },
  {
   "cell_type": "code",
   "execution_count": 22,
   "id": "399c0732",
   "metadata": {},
   "outputs": [
    {
     "name": "stdout",
     "output_type": "stream",
     "text": [
      "✅The submission.csv file was successfully created.\n"
     ]
    }
   ],
   "source": [
    "# Save File .CSV\n",
    "submission.to_csv(r\"C:\\Users\\Amir\\Desktop\\Program Project\\Project mashinlearning\\submission.csv\", index=False)\n",
    "\n",
    "print(\"✅The submission.csv file was successfully created.\")"
   ]
  }
 ],
 "metadata": {
  "kernelspec": {
   "display_name": "Python 3",
   "language": "python",
   "name": "python3"
  },
  "language_info": {
   "codemirror_mode": {
    "name": "ipython",
    "version": 3
   },
   "file_extension": ".py",
   "mimetype": "text/x-python",
   "name": "python",
   "nbconvert_exporter": "python",
   "pygments_lexer": "ipython3",
   "version": "3.13.1"
  }
 },
 "nbformat": 4,
 "nbformat_minor": 5
}
